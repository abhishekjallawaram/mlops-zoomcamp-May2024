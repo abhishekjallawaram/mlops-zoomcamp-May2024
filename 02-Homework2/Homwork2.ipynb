{
 "cells": [
  {
   "cell_type": "code",
   "execution_count": 1,
   "id": "15e5714b-cba6-410d-aace-fa3034c8c5b2",
   "metadata": {},
   "outputs": [
    {
     "name": "stdout",
     "output_type": "stream",
     "text": [
      "Requirement already satisfied: mlflow in /usr/local/python/3.10.13/lib/python3.10/site-packages (2.13.0)\n",
      "Requirement already satisfied: Flask<4 in /usr/local/python/3.10.13/lib/python3.10/site-packages (from mlflow) (3.0.3)\n",
      "Requirement already satisfied: alembic!=1.10.0,<2 in /usr/local/python/3.10.13/lib/python3.10/site-packages (from mlflow) (1.13.1)\n",
      "Requirement already satisfied: cachetools<6,>=5.0.0 in /usr/local/python/3.10.13/lib/python3.10/site-packages (from mlflow) (5.3.3)\n",
      "Requirement already satisfied: click<9,>=7.0 in /usr/local/python/3.10.13/lib/python3.10/site-packages (from mlflow) (8.1.7)\n",
      "Requirement already satisfied: cloudpickle<4 in /usr/local/python/3.10.13/lib/python3.10/site-packages (from mlflow) (3.0.0)\n",
      "Requirement already satisfied: docker<8,>=4.0.0 in /usr/local/python/3.10.13/lib/python3.10/site-packages (from mlflow) (7.1.0)\n",
      "Requirement already satisfied: entrypoints<1 in /usr/local/python/3.10.13/lib/python3.10/site-packages (from mlflow) (0.4)\n",
      "Requirement already satisfied: gitpython<4,>=3.1.9 in /home/codespace/.local/lib/python3.10/site-packages (from mlflow) (3.1.43)\n",
      "Requirement already satisfied: graphene<4 in /usr/local/python/3.10.13/lib/python3.10/site-packages (from mlflow) (3.3)\n",
      "Requirement already satisfied: importlib-metadata!=4.7.0,<8,>=3.7.0 in /usr/local/python/3.10.13/lib/python3.10/site-packages (from mlflow) (7.0.0)\n",
      "Requirement already satisfied: markdown<4,>=3.3 in /usr/local/python/3.10.13/lib/python3.10/site-packages (from mlflow) (3.6)\n",
      "Requirement already satisfied: matplotlib<4 in /home/codespace/.local/lib/python3.10/site-packages (from mlflow) (3.8.3)\n",
      "Requirement already satisfied: numpy<2 in /home/codespace/.local/lib/python3.10/site-packages (from mlflow) (1.26.4)\n",
      "Requirement already satisfied: opentelemetry-api<3,>=1.0.0 in /usr/local/python/3.10.13/lib/python3.10/site-packages (from mlflow) (1.24.0)\n",
      "Requirement already satisfied: opentelemetry-sdk<3,>=1.0.0 in /usr/local/python/3.10.13/lib/python3.10/site-packages (from mlflow) (1.24.0)\n",
      "Requirement already satisfied: packaging<25 in /home/codespace/.local/lib/python3.10/site-packages (from mlflow) (24.0)\n",
      "Requirement already satisfied: pandas<3 in /home/codespace/.local/lib/python3.10/site-packages (from mlflow) (2.2.1)\n",
      "Requirement already satisfied: protobuf<5,>=3.12.0 in /usr/local/python/3.10.13/lib/python3.10/site-packages (from mlflow) (4.25.3)\n",
      "Requirement already satisfied: pyarrow<16,>=4.0.0 in /usr/local/python/3.10.13/lib/python3.10/site-packages (from mlflow) (15.0.2)\n",
      "Requirement already satisfied: pytz<2025 in /home/codespace/.local/lib/python3.10/site-packages (from mlflow) (2024.1)\n",
      "Requirement already satisfied: pyyaml<7,>=5.1 in /home/codespace/.local/lib/python3.10/site-packages (from mlflow) (6.0.1)\n",
      "Requirement already satisfied: querystring-parser<2 in /usr/local/python/3.10.13/lib/python3.10/site-packages (from mlflow) (1.2.4)\n",
      "Requirement already satisfied: requests<3,>=2.17.3 in /home/codespace/.local/lib/python3.10/site-packages (from mlflow) (2.31.0)\n",
      "Requirement already satisfied: scikit-learn<2 in /home/codespace/.local/lib/python3.10/site-packages (from mlflow) (1.4.1.post1)\n",
      "Requirement already satisfied: scipy<2 in /home/codespace/.local/lib/python3.10/site-packages (from mlflow) (1.13.0)\n",
      "Requirement already satisfied: sqlalchemy<3,>=1.4.0 in /usr/local/python/3.10.13/lib/python3.10/site-packages (from mlflow) (2.0.30)\n",
      "Requirement already satisfied: sqlparse<1,>=0.4.0 in /usr/local/python/3.10.13/lib/python3.10/site-packages (from mlflow) (0.5.0)\n",
      "Requirement already satisfied: Jinja2<4,>=2.11 in /home/codespace/.local/lib/python3.10/site-packages (from mlflow) (3.1.3)\n",
      "Requirement already satisfied: gunicorn<23 in /usr/local/python/3.10.13/lib/python3.10/site-packages (from mlflow) (22.0.0)\n",
      "Requirement already satisfied: Mako in /usr/local/python/3.10.13/lib/python3.10/site-packages (from alembic!=1.10.0,<2->mlflow) (1.3.5)\n",
      "Requirement already satisfied: typing-extensions>=4 in /home/codespace/.local/lib/python3.10/site-packages (from alembic!=1.10.0,<2->mlflow) (4.10.0)\n",
      "Requirement already satisfied: urllib3>=1.26.0 in /usr/local/python/3.10.13/lib/python3.10/site-packages (from docker<8,>=4.0.0->mlflow) (2.0.7)\n",
      "Requirement already satisfied: Werkzeug>=3.0.0 in /usr/local/python/3.10.13/lib/python3.10/site-packages (from Flask<4->mlflow) (3.0.3)\n",
      "Requirement already satisfied: itsdangerous>=2.1.2 in /usr/local/python/3.10.13/lib/python3.10/site-packages (from Flask<4->mlflow) (2.2.0)\n",
      "Requirement already satisfied: blinker>=1.6.2 in /usr/local/python/3.10.13/lib/python3.10/site-packages (from Flask<4->mlflow) (1.8.2)\n",
      "Requirement already satisfied: gitdb<5,>=4.0.1 in /home/codespace/.local/lib/python3.10/site-packages (from gitpython<4,>=3.1.9->mlflow) (4.0.11)\n",
      "Requirement already satisfied: graphql-core<3.3,>=3.1 in /usr/local/python/3.10.13/lib/python3.10/site-packages (from graphene<4->mlflow) (3.2.3)\n",
      "Requirement already satisfied: graphql-relay<3.3,>=3.1 in /usr/local/python/3.10.13/lib/python3.10/site-packages (from graphene<4->mlflow) (3.2.0)\n",
      "Requirement already satisfied: aniso8601<10,>=8 in /usr/local/python/3.10.13/lib/python3.10/site-packages (from graphene<4->mlflow) (9.0.1)\n",
      "Requirement already satisfied: zipp>=0.5 in /usr/local/python/3.10.13/lib/python3.10/site-packages (from importlib-metadata!=4.7.0,<8,>=3.7.0->mlflow) (3.18.2)\n",
      "Requirement already satisfied: MarkupSafe>=2.0 in /home/codespace/.local/lib/python3.10/site-packages (from Jinja2<4,>=2.11->mlflow) (2.1.5)\n",
      "Requirement already satisfied: contourpy>=1.0.1 in /home/codespace/.local/lib/python3.10/site-packages (from matplotlib<4->mlflow) (1.2.1)\n",
      "Requirement already satisfied: cycler>=0.10 in /home/codespace/.local/lib/python3.10/site-packages (from matplotlib<4->mlflow) (0.12.1)\n",
      "Requirement already satisfied: fonttools>=4.22.0 in /home/codespace/.local/lib/python3.10/site-packages (from matplotlib<4->mlflow) (4.50.0)\n",
      "Requirement already satisfied: kiwisolver>=1.3.1 in /home/codespace/.local/lib/python3.10/site-packages (from matplotlib<4->mlflow) (1.4.5)\n",
      "Requirement already satisfied: pillow>=8 in /home/codespace/.local/lib/python3.10/site-packages (from matplotlib<4->mlflow) (10.3.0)\n",
      "Requirement already satisfied: pyparsing>=2.3.1 in /home/codespace/.local/lib/python3.10/site-packages (from matplotlib<4->mlflow) (3.1.2)\n",
      "Requirement already satisfied: python-dateutil>=2.7 in /home/codespace/.local/lib/python3.10/site-packages (from matplotlib<4->mlflow) (2.9.0.post0)\n",
      "Requirement already satisfied: deprecated>=1.2.6 in /usr/local/python/3.10.13/lib/python3.10/site-packages (from opentelemetry-api<3,>=1.0.0->mlflow) (1.2.14)\n",
      "Requirement already satisfied: opentelemetry-semantic-conventions==0.45b0 in /usr/local/python/3.10.13/lib/python3.10/site-packages (from opentelemetry-sdk<3,>=1.0.0->mlflow) (0.45b0)\n",
      "Requirement already satisfied: tzdata>=2022.7 in /home/codespace/.local/lib/python3.10/site-packages (from pandas<3->mlflow) (2024.1)\n",
      "Requirement already satisfied: six in /home/codespace/.local/lib/python3.10/site-packages (from querystring-parser<2->mlflow) (1.16.0)\n",
      "Requirement already satisfied: charset-normalizer<4,>=2 in /home/codespace/.local/lib/python3.10/site-packages (from requests<3,>=2.17.3->mlflow) (3.3.2)\n",
      "Requirement already satisfied: idna<4,>=2.5 in /home/codespace/.local/lib/python3.10/site-packages (from requests<3,>=2.17.3->mlflow) (3.6)\n",
      "Requirement already satisfied: certifi>=2017.4.17 in /home/codespace/.local/lib/python3.10/site-packages (from requests<3,>=2.17.3->mlflow) (2024.2.2)\n",
      "Requirement already satisfied: joblib>=1.2.0 in /home/codespace/.local/lib/python3.10/site-packages (from scikit-learn<2->mlflow) (1.3.2)\n",
      "Requirement already satisfied: threadpoolctl>=2.0.0 in /home/codespace/.local/lib/python3.10/site-packages (from scikit-learn<2->mlflow) (3.4.0)\n",
      "Requirement already satisfied: greenlet!=0.4.17 in /usr/local/python/3.10.13/lib/python3.10/site-packages (from sqlalchemy<3,>=1.4.0->mlflow) (3.0.3)\n",
      "Requirement already satisfied: wrapt<2,>=1.10 in /usr/local/python/3.10.13/lib/python3.10/site-packages (from deprecated>=1.2.6->opentelemetry-api<3,>=1.0.0->mlflow) (1.16.0)\n",
      "Requirement already satisfied: smmap<6,>=3.0.1 in /home/codespace/.local/lib/python3.10/site-packages (from gitdb<5,>=4.0.1->gitpython<4,>=3.1.9->mlflow) (5.0.1)\n"
     ]
    }
   ],
   "source": [
    "# Install MLflow\n",
    "!pip install mlflow"
   ]
  },
  {
   "cell_type": "code",
   "execution_count": 2,
   "id": "09335116-7f93-4b2c-a00a-7bc6a8a4e29d",
   "metadata": {},
   "outputs": [
    {
     "name": "stdout",
     "output_type": "stream",
     "text": [
      "mlflow, version 2.13.0\n"
     ]
    }
   ],
   "source": [
    "# Check MLflow version\n",
    "!mlflow --version"
   ]
  },
  {
   "cell_type": "code",
   "execution_count": 3,
   "id": "3a138d7f-a390-437b-8e08-d744c2d9b4a5",
   "metadata": {},
   "outputs": [
    {
     "name": "stdout",
     "output_type": "stream",
     "text": [
      "Number of files in the output folder: 4\n"
     ]
    }
   ],
   "source": [
    "# Running the preprocessing script\n",
    "!python preprocess_data.py --raw_data_path ../Data --dest_path ./output\n",
    "\n",
    "# Check the number of files in the output folder\n",
    "import os\n",
    "\n",
    "output_files = os.listdir('./output')\n",
    "print(f\"Number of files in the output folder: {len(output_files)}\")\n"
   ]
  },
  {
   "cell_type": "code",
   "execution_count": 4,
   "id": "973067d2-1a8e-41c4-8554-984315d403ad",
   "metadata": {},
   "outputs": [
    {
     "name": "stdout",
     "output_type": "stream",
     "text": [
      "2024/05/24 22:56:04 WARNING mlflow.sklearn: Failed to log training dataset information to MLflow Tracking. Reason: 'numpy.ndarray' object has no attribute 'toarray'\n",
      "2024/05/24 22:56:19 WARNING mlflow.utils.autologging_utils: MLflow autologging encountered a warning: \"/usr/local/python/3.10.13/lib/python3.10/site-packages/_distutils_hack/__init__.py:33: UserWarning: Setuptools is replacing distutils.\"\n",
      "Validation RMSE: 5.431162180141208\n"
     ]
    }
   ],
   "source": [
    "# Running the training script\n",
    "!python train.py --data_path ./output"
   ]
  },
  {
   "cell_type": "markdown",
   "id": "474e7c4e-d232-4480-83a0-f15c5fbc2299",
   "metadata": {},
   "source": [
    "### Launch the MLflow Tracking Server\n",
    "\n",
    "Please run the following command in a separate terminal to keep the tracking server running:\n",
    "\n",
    "```bash\n",
    "mlflow server --backend-store-uri sqlite:///mlflow.db --default-artifact-root ./artifacts"
   ]
  },
  {
   "cell_type": "code",
   "execution_count": 5,
   "id": "b5bb31be-62d7-4b5b-973e-967ba4ddb30c",
   "metadata": {},
   "outputs": [
    {
     "name": "stdout",
     "output_type": "stream",
     "text": [
      "100%|██████████| 15/15 [01:05<00:00,  4.36s/trial, best loss: 5.335419588556921]\n"
     ]
    }
   ],
   "source": [
    "\n",
    "#### 5. Tune model hyperparameters\n",
    "# Running the hyperparameter optimization script\n",
    "!python hpo.py --data_path ./output --num_trials 15\n"
   ]
  },
  {
   "cell_type": "code",
   "execution_count": 6,
   "id": "1d1414ef-3f5e-4025-b2fa-3ec8233584ac",
   "metadata": {},
   "outputs": [
    {
     "name": "stdout",
     "output_type": "stream",
     "text": [
      "Lowest Test RMSE: 5.567408012462019, Best Run ID: f0bf312116ff42c3b7d66ff08f212c40\n",
      "Registered model 'BestRandomForestModel' already exists. Creating a new version of this model...\n",
      "2024/05/24 22:58:01 INFO mlflow.store.model_registry.abstract_store: Waiting up to 300 seconds for model version to finish creation. Model name: BestRandomForestModel, version 3\n",
      "Created version '3' of model 'BestRandomForestModel'.\n"
     ]
    }
   ],
   "source": [
    "# Running the model registration script\n",
    "!python register_model.py --data_path ./output --top_n 5"
   ]
  },
  {
   "cell_type": "code",
   "execution_count": null,
   "id": "af4ca1c9-16d5-4afc-8db8-a3e75ed39461",
   "metadata": {},
   "outputs": [],
   "source": []
  }
 ],
 "metadata": {
  "kernelspec": {
   "display_name": "Python 3 (ipykernel)",
   "language": "python",
   "name": "python3"
  },
  "language_info": {
   "codemirror_mode": {
    "name": "ipython",
    "version": 3
   },
   "file_extension": ".py",
   "mimetype": "text/x-python",
   "name": "python",
   "nbconvert_exporter": "python",
   "pygments_lexer": "ipython3",
   "version": "3.10.13"
  }
 },
 "nbformat": 4,
 "nbformat_minor": 5
}
